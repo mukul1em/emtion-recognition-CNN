{
 "cells": [
  {
   "cell_type": "code",
   "execution_count": 21,
   "metadata": {},
   "outputs": [],
   "source": [
    "from keras.preprocessing.image import ImageDataGenerator\n",
    "from keras import Sequential\n",
    "from keras.layers import Conv2D,MaxPooling2D\n",
    "from keras.layers import Dense,Flatten,Dropout\n",
    "from keras import backend as K\n",
    "img_width=200\n",
    "img_height=200"
   ]
  },
  {
   "cell_type": "code",
   "execution_count": 22,
   "metadata": {},
   "outputs": [],
   "source": [
    "train_dir=r'/home/mukul/tess1/train'\n",
    "test_dir=r'/home/mukul/tess1/test'\n",
    "if K.image_data_format()=='channels_first':\n",
    "    input_shape=(3,img_width,img_height)\n",
    "else:\n",
    "    input_shape=(img_width,img_height,3)\n",
    "\n"
   ]
  },
  {
   "cell_type": "code",
   "execution_count": 29,
   "metadata": {},
   "outputs": [],
   "source": [
    "model=Sequential()\n",
    "\n",
    "model.add(Conv2D(16,(2,2),input_shape=input_shape,activation='relu'))\n",
    "model.add(MaxPooling2D(2,2))\n",
    "model.add(Dropout(0.15))\n",
    "model.add(Conv2D(16,(2,2),activation='relu'))\n",
    "model.add(MaxPooling2D(2,2))\n",
    "model.add(Dropout(0.15))\n",
    "model.add(Conv2D(16,(2,2),activation='relu'))\n",
    "model.add(MaxPooling2D(2,2))\n",
    "model.add(Dropout(0.15))\n",
    "model.add(Flatten())\n",
    "model.add(Dense(7,activation='softmax'))"
   ]
  },
  {
   "cell_type": "code",
   "execution_count": 30,
   "metadata": {},
   "outputs": [],
   "source": [
    "model.compile(loss='categorical_crossentropy',optimizer='adam',metrics=['accuracy'])"
   ]
  },
  {
   "cell_type": "code",
   "execution_count": 31,
   "metadata": {},
   "outputs": [],
   "source": [
    "train_datagen=ImageDataGenerator(rescale=1./255,\n",
    "                                zoom_range=0.2)\n",
    "test_datagen=ImageDataGenerator(rescale=1./255)\n"
   ]
  },
  {
   "cell_type": "code",
   "execution_count": 32,
   "metadata": {},
   "outputs": [
    {
     "name": "stdout",
     "output_type": "stream",
     "text": [
      "Found 2450 images belonging to 7 classes.\n"
     ]
    }
   ],
   "source": [
    "train_generator=train_datagen.flow_from_directory(train_dir,\n",
    "                                                 target_size=(img_width,img_height),\n",
    "                                                 batch_size=10)"
   ]
  },
  {
   "cell_type": "code",
   "execution_count": 33,
   "metadata": {},
   "outputs": [
    {
     "name": "stdout",
     "output_type": "stream",
     "text": [
      "Found 350 images belonging to 7 classes.\n"
     ]
    }
   ],
   "source": [
    "test_generator=test_datagen.flow_from_directory(test_dir,\n",
    "                                                 target_size=(img_width,img_height),\n",
    "                                                 batch_size=10)"
   ]
  },
  {
   "cell_type": "code",
   "execution_count": 34,
   "metadata": {
    "scrolled": true
   },
   "outputs": [
    {
     "name": "stdout",
     "output_type": "stream",
     "text": [
      "Epoch 1/30\n",
      "245/245 [==============================] - 67s 273ms/step - loss: 1.9699 - accuracy: 0.1384 - val_loss: 1.9470 - val_accuracy: 0.1457\n",
      "Epoch 2/30\n",
      "245/245 [==============================] - 66s 268ms/step - loss: 1.9458 - accuracy: 0.1535 - val_loss: 1.9448 - val_accuracy: 0.2486\n",
      "Epoch 3/30\n",
      "245/245 [==============================] - 66s 268ms/step - loss: 1.9180 - accuracy: 0.2135 - val_loss: 1.7706 - val_accuracy: 0.2457\n",
      "Epoch 4/30\n",
      "245/245 [==============================] - 66s 268ms/step - loss: 1.5956 - accuracy: 0.3951 - val_loss: 1.2582 - val_accuracy: 0.3857\n",
      "Epoch 5/30\n",
      "245/245 [==============================] - 66s 268ms/step - loss: 1.2089 - accuracy: 0.5722 - val_loss: 1.2316 - val_accuracy: 0.7171\n",
      "Epoch 6/30\n",
      "245/245 [==============================] - 65s 267ms/step - loss: 0.8940 - accuracy: 0.6902 - val_loss: 0.9670 - val_accuracy: 0.7200\n",
      "Epoch 7/30\n",
      "245/245 [==============================] - 66s 269ms/step - loss: 0.7166 - accuracy: 0.7604 - val_loss: 0.9713 - val_accuracy: 0.7714\n",
      "Epoch 8/30\n",
      "245/245 [==============================] - 65s 267ms/step - loss: 0.6051 - accuracy: 0.8016 - val_loss: 0.4972 - val_accuracy: 0.8000\n",
      "Epoch 9/30\n",
      "245/245 [==============================] - 66s 268ms/step - loss: 0.5254 - accuracy: 0.8265 - val_loss: 0.6332 - val_accuracy: 0.8457\n",
      "Epoch 10/30\n",
      "245/245 [==============================] - 66s 268ms/step - loss: 0.4703 - accuracy: 0.8367 - val_loss: 0.4587 - val_accuracy: 0.8114\n",
      "Epoch 11/30\n",
      "245/245 [==============================] - 66s 271ms/step - loss: 0.4291 - accuracy: 0.8571 - val_loss: 0.3997 - val_accuracy: 0.7943\n",
      "Epoch 12/30\n",
      "245/245 [==============================] - 66s 268ms/step - loss: 0.3830 - accuracy: 0.8718 - val_loss: 0.3297 - val_accuracy: 0.8429\n",
      "Epoch 13/30\n",
      "245/245 [==============================] - 66s 267ms/step - loss: 0.3724 - accuracy: 0.8763 - val_loss: 0.2656 - val_accuracy: 0.8371\n",
      "Epoch 14/30\n",
      "245/245 [==============================] - 66s 270ms/step - loss: 0.3600 - accuracy: 0.8833 - val_loss: 0.3455 - val_accuracy: 0.8486\n",
      "Epoch 15/30\n",
      "245/245 [==============================] - 66s 269ms/step - loss: 0.3318 - accuracy: 0.8898 - val_loss: 0.7002 - val_accuracy: 0.8686\n",
      "Epoch 16/30\n",
      "245/245 [==============================] - 66s 268ms/step - loss: 0.3283 - accuracy: 0.8980 - val_loss: 0.0982 - val_accuracy: 0.9000\n",
      "Epoch 17/30\n",
      "245/245 [==============================] - 66s 269ms/step - loss: 0.2989 - accuracy: 0.9000 - val_loss: 0.8017 - val_accuracy: 0.8743\n",
      "Epoch 18/30\n",
      "245/245 [==============================] - 66s 268ms/step - loss: 0.2968 - accuracy: 0.8992 - val_loss: 0.2634 - val_accuracy: 0.8657\n",
      "Epoch 19/30\n",
      "245/245 [==============================] - 65s 267ms/step - loss: 0.2617 - accuracy: 0.9155 - val_loss: 0.1912 - val_accuracy: 0.9086\n",
      "Epoch 20/30\n",
      "245/245 [==============================] - 65s 267ms/step - loss: 0.2476 - accuracy: 0.9151 - val_loss: 0.0745 - val_accuracy: 0.8800\n",
      "Epoch 21/30\n",
      "245/245 [==============================] - 66s 267ms/step - loss: 0.2572 - accuracy: 0.9184 - val_loss: 0.2827 - val_accuracy: 0.9143\n",
      "Epoch 22/30\n",
      "245/245 [==============================] - 65s 267ms/step - loss: 0.2530 - accuracy: 0.9131 - val_loss: 0.2770 - val_accuracy: 0.9057\n",
      "Epoch 23/30\n",
      "245/245 [==============================] - 66s 267ms/step - loss: 0.2431 - accuracy: 0.9196 - val_loss: 0.2030 - val_accuracy: 0.9057\n",
      "Epoch 24/30\n",
      "245/245 [==============================] - 66s 267ms/step - loss: 0.2549 - accuracy: 0.9163 - val_loss: 0.4041 - val_accuracy: 0.8971\n",
      "Epoch 25/30\n",
      "245/245 [==============================] - 66s 268ms/step - loss: 0.2199 - accuracy: 0.9331 - val_loss: 0.7286 - val_accuracy: 0.8886\n",
      "Epoch 26/30\n",
      "245/245 [==============================] - 66s 268ms/step - loss: 0.1978 - accuracy: 0.9339 - val_loss: 0.1577 - val_accuracy: 0.9143\n",
      "Epoch 27/30\n",
      "245/245 [==============================] - 66s 268ms/step - loss: 0.2202 - accuracy: 0.9253 - val_loss: 0.4496 - val_accuracy: 0.9200\n",
      "Epoch 28/30\n",
      "245/245 [==============================] - 66s 268ms/step - loss: 0.2212 - accuracy: 0.9261 - val_loss: 0.1867 - val_accuracy: 0.9229\n",
      "Epoch 29/30\n",
      "245/245 [==============================] - 66s 268ms/step - loss: 0.2161 - accuracy: 0.9302 - val_loss: 0.8156 - val_accuracy: 0.9314\n",
      "Epoch 30/30\n",
      "245/245 [==============================] - 67s 272ms/step - loss: 0.2174 - accuracy: 0.9269 - val_loss: 0.0962 - val_accuracy: 0.9343\n"
     ]
    },
    {
     "data": {
      "text/plain": [
       "<keras.callbacks.callbacks.History at 0x7ef19d5da0>"
      ]
     },
     "execution_count": 34,
     "metadata": {},
     "output_type": "execute_result"
    }
   ],
   "source": [
    "model.fit_generator(train_generator,steps_per_epoch=2450//10,epochs=30,validation_data=test_generator,\n",
    "                   validation_steps=350//10)"
   ]
  },
  {
   "cell_type": "code",
   "execution_count": 35,
   "metadata": {},
   "outputs": [
    {
     "name": "stdout",
     "output_type": "stream",
     "text": [
      "Model: \"sequential_4\"\n",
      "_________________________________________________________________\n",
      "Layer (type)                 Output Shape              Param #   \n",
      "=================================================================\n",
      "conv2d_10 (Conv2D)           (None, 199, 199, 16)      208       \n",
      "_________________________________________________________________\n",
      "max_pooling2d_10 (MaxPooling (None, 99, 99, 16)        0         \n",
      "_________________________________________________________________\n",
      "dropout_7 (Dropout)          (None, 99, 99, 16)        0         \n",
      "_________________________________________________________________\n",
      "conv2d_11 (Conv2D)           (None, 98, 98, 16)        1040      \n",
      "_________________________________________________________________\n",
      "max_pooling2d_11 (MaxPooling (None, 49, 49, 16)        0         \n",
      "_________________________________________________________________\n",
      "dropout_8 (Dropout)          (None, 49, 49, 16)        0         \n",
      "_________________________________________________________________\n",
      "conv2d_12 (Conv2D)           (None, 48, 48, 16)        1040      \n",
      "_________________________________________________________________\n",
      "max_pooling2d_12 (MaxPooling (None, 24, 24, 16)        0         \n",
      "_________________________________________________________________\n",
      "dropout_9 (Dropout)          (None, 24, 24, 16)        0         \n",
      "_________________________________________________________________\n",
      "flatten_4 (Flatten)          (None, 9216)              0         \n",
      "_________________________________________________________________\n",
      "dense_4 (Dense)              (None, 7)                 64519     \n",
      "=================================================================\n",
      "Total params: 66,807\n",
      "Trainable params: 66,807\n",
      "Non-trainable params: 0\n",
      "_________________________________________________________________\n"
     ]
    }
   ],
   "source": [
    "model.summary()\n"
   ]
  },
  {
   "cell_type": "code",
   "execution_count": 38,
   "metadata": {},
   "outputs": [],
   "source": [
    "score,acc=model.evaluate_generator(test_generator,10)"
   ]
  },
  {
   "cell_type": "code",
   "execution_count": 39,
   "metadata": {},
   "outputs": [
    {
     "data": {
      "text/plain": [
       "0.39956527948379517"
      ]
     },
     "execution_count": 39,
     "metadata": {},
     "output_type": "execute_result"
    }
   ],
   "source": [
    "score"
   ]
  },
  {
   "cell_type": "code",
   "execution_count": 40,
   "metadata": {},
   "outputs": [
    {
     "data": {
      "text/plain": [
       "0.8799999952316284"
      ]
     },
     "execution_count": 40,
     "metadata": {},
     "output_type": "execute_result"
    }
   ],
   "source": [
    "acc"
   ]
  },
  {
   "cell_type": "code",
   "execution_count": null,
   "metadata": {},
   "outputs": [],
   "source": [
    "0."
   ]
  }
 ],
 "metadata": {
  "kernelspec": {
   "display_name": "Python 3",
   "language": "python",
   "name": "python3"
  },
  "language_info": {
   "codemirror_mode": {
    "name": "ipython",
    "version": 3
   },
   "file_extension": ".py",
   "mimetype": "text/x-python",
   "name": "python",
   "nbconvert_exporter": "python",
   "pygments_lexer": "ipython3",
   "version": "3.6.9"
  }
 },
 "nbformat": 4,
 "nbformat_minor": 2
}
